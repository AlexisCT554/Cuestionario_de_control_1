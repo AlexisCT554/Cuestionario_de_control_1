{
  "nbformat": 4,
  "nbformat_minor": 0,
  "metadata": {
    "colab": {
      "name": "Cuestionario_de_control.ipynb",
      "provenance": []
    },
    "kernelspec": {
      "name": "python3",
      "display_name": "Python 3"
    },
    "language_info": {
      "name": "python"
    }
  },
  "cells": [
    {
      "cell_type": "code",
      "metadata": {
        "id": "AkNtatGNurOF"
      },
      "source": [
        "class Persona:\n",
        "  def __init__( self,n,e,est ):\n",
        "    self.__nombre=n\n",
        "    self.__edad= e\n",
        "    self.__estatura=est\n",
        "\n",
        "  def to_string(self):\n",
        "    return \"Nombre: \" + self.__nombre+\" Edad: \"+str(self.__edad) + \" Estatura: \" +str(self.__estatura)\n",
        "  \n",
        "  def set_estatura(self, nueva_est):\n",
        "    if nueva_est > 0.10 and nueva_est <2.5:\n",
        "      self.__estatura = nueva_est\n",
        "    else:\n",
        "      print(\"Error: Esa estatura no es posible\")\n",
        "  \n",
        "  def get_estatura(self):\n",
        "    return self.__estatura"
      ],
      "execution_count": 1,
      "outputs": []
    },
    {
      "cell_type": "code",
      "metadata": {
        "colab": {
          "base_uri": "https://localhost:8080/"
        },
        "id": "hl8cJtzBu1us",
        "outputId": "15e74d9c-0743-4a9f-d3b4-26d371b1d71b"
      },
      "source": [
        "per = Persona(\"Jose\",19,1.60)\n",
        "print(per.to_string())\n",
        "\n",
        "#encapsulamiento\n",
        "\n",
        "per.nombre=\"Pedro\" #Esto no se recomienda\n",
        "print(per.to_string())\n",
        "\n",
        "#per.estatura=3.9\n",
        "per.set_estatura(1.9)\n",
        "print(per.to_string())\n",
        "\n",
        "print(\"Estatura: \", end=\"\")\n",
        "#print(per.__estatura)\n",
        "print(per.get_estatura())"
      ],
      "execution_count": 2,
      "outputs": [
        {
          "output_type": "stream",
          "name": "stdout",
          "text": [
            "Nombre: Jose Edad: 19 Estatura: 1.6\n",
            "Nombre: Jose Edad: 19 Estatura: 1.6\n",
            "Nombre: Jose Edad: 19 Estatura: 1.9\n",
            "Estatura: 1.9\n"
          ]
        }
      ]
    },
    {
      "cell_type": "code",
      "metadata": {
        "id": "eB9eXXKJu3ZZ"
      },
      "source": [
        "class Estudiante(Persona):\n",
        "  def __init__(self, nc, nombre, edad, est):\n",
        "    self.__num_cta=nc\n",
        "    super().__init__(nombre,edad,est)\n",
        "  \n",
        "  def to_string(self):\n",
        "    return super().to_string() + \" Numero de cuenta: \" +self.__num_cta"
      ],
      "execution_count": 3,
      "outputs": []
    },
    {
      "cell_type": "code",
      "metadata": {
        "colab": {
          "base_uri": "https://localhost:8080/"
        },
        "id": "zWbKqszpu5Xj",
        "outputId": "1b9a7501-31a8-4f0b-dfef-a1284875de65"
      },
      "source": [
        "est=Estudiante(\"121212\",\"Jose\",18,1.70)\n",
        "print(est.to_string())"
      ],
      "execution_count": 4,
      "outputs": [
        {
          "output_type": "stream",
          "name": "stdout",
          "text": [
            "Nombre: Jose Edad: 18 Estatura: 1.7 Numero de cuenta: 121212\n"
          ]
        }
      ]
    }
  ]
}